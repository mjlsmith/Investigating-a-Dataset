{
 "cells": [
  {
   "cell_type": "markdown",
   "metadata": {},
   "source": [
    "   \n",
    "  <h1><center><span style = \"color:#FF0000;\">Titanic Data Set</span></center></h1>\n",
    "  \n",
    "  ***********"
   ]
  },
  {
   "cell_type": "markdown",
   "metadata": {},
   "source": [
    "<h3>Background on the Titanic disaster</h3>\n",
    "\n",
    "On April 14, 1912, The RSM Titanic struck an iceburg and sunk. By 2 am on the 15th, the ship had completely disappeared beneath the Atlantic Ocean.  Of the 2223 people abord the ship, more than 1500 passengers and crew members lost their lives. Contributing to this tragedy is that many lives were lost needlessly. The ship was equipped to carry **64 lifeboats, each with a capacity of 65 people.** Instead, the RSM Titanic made her maiden voyage with only 20 lifeboats. Even still, the 20 lifeboats could have saved more than half of the passengers and crew, but like the first lifeboat which carried only 28 people, they were not filled to capacity. This resulted in **only 31.6 percent of those on board surviving.** \n",
    "\n",
    "The wreckage now covers approximately **1,000 acres ** of the ocean bed.\n",
    "\n",
    "<p>  \n",
    "![Titanic Sketch](http://www.icyousee.org/graphics/titanicsketch.jpg)\n",
    "<p>  \n",
    "\n",
    "source: \n",
    "+ http://www.titanicfacts.net/\n",
    "+ http://www.icyousee.org/titanic.html#serv\n"
   ]
  },
  {
   "cell_type": "markdown",
   "metadata": {},
   "source": [
    "### Investigate a Dataset\n",
    "\n",
    "The purpose of this analysis is to predict the factors (variables) that increased the survivability on the Titanic. I hypothesize that sex, socio-economic status and age will all play a factor a passenger’s survivability.  The data set is not a complete representation of the passengers on the Titanic but I will test if it is a good sample. Also, there is missing data. Due to this, the findings will be tentative, at best. A more complete data set is necessary to report more conclusively on survivability. \n",
    "\n",
    "**************\n",
    "\n",
    "#### Using the data, the following questions will be analyzed: \n",
    "\n",
    "   + Does Socio-Economic status have an effect of survivability?  \n",
    "   + Question 2: Does age have an effect of survivability?  \n",
    "   * Question 3: Does sex have an effect of survivability?"
   ]
  },
  {
   "cell_type": "code",
   "execution_count": 3,
   "metadata": {
    "collapsed": true
   },
   "outputs": [],
   "source": [
    "## Import Python Packages\n",
    "## Data Analysis\n",
    "import numpy as np\n",
    "import pandas as pd\n",
    "\n",
    "## Visuals\n",
    "import matplotlib.pyplot as plt\n",
    "import seaborn as sns\n",
    "\n",
    "%matplotlib inline"
   ]
  },
  {
   "cell_type": "code",
   "execution_count": 4,
   "metadata": {
    "collapsed": true
   },
   "outputs": [],
   "source": [
    "##Import the Titanic Dataset\n",
    "df = pd.read_csv(\"titanic-data.csv\")"
   ]
  },
  {
   "cell_type": "markdown",
   "metadata": {},
   "source": [
    "According to [Titanic Facts](www.titanicfacts.net), 31.6% of the total people on board survived. First I will compare this to the percent of people that survived in the sample to see if it is a accurate sample."
   ]
  },
  {
   "cell_type": "code",
   "execution_count": 5,
   "metadata": {},
   "outputs": [
    {
     "data": {
      "text/plain": [
       "0    549\n",
       "1    342\n",
       "Name: Survived, dtype: int64"
      ]
     },
     "execution_count": 5,
     "metadata": {},
     "output_type": "execute_result"
    }
   ],
   "source": [
    "df.Survived.value_counts()"
   ]
  },
  {
   "cell_type": "code",
   "execution_count": 7,
   "metadata": {},
   "outputs": [
    {
     "data": {
      "text/plain": [
       "0.3838383838383838"
      ]
     },
     "execution_count": 7,
     "metadata": {},
     "output_type": "execute_result"
    }
   ],
   "source": [
    "342/891.0"
   ]
  },
  {
   "cell_type": "markdown",
   "metadata": {},
   "source": [
    "** In this sample, 38% survived. I would conclude this is a good sampling of the people aboard. **"
   ]
  },
  {
   "cell_type": "code",
   "execution_count": null,
   "metadata": {
    "collapsed": true
   },
   "outputs": [],
   "source": []
  }
 ],
 "metadata": {
  "kernelspec": {
   "display_name": "Python 2",
   "language": "python",
   "name": "python2"
  },
  "language_info": {
   "codemirror_mode": {
    "name": "ipython",
    "version": 2
   },
   "file_extension": ".py",
   "mimetype": "text/x-python",
   "name": "python",
   "nbconvert_exporter": "python",
   "pygments_lexer": "ipython2",
   "version": "2.7.13"
  }
 },
 "nbformat": 4,
 "nbformat_minor": 2
}
